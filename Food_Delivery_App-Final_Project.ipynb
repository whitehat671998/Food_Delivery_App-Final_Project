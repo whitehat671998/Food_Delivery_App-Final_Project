{
 "cells": [
  {
   "cell_type": "code",
   "execution_count": 128,
   "id": "95da34a5",
   "metadata": {},
   "outputs": [],
   "source": [
    "import json\n",
    "\n",
    "class Restaurant:\n",
    "  def __init__(self,restaurant_name):\n",
    "    self.foods={}\n",
    "    self.food_id=len(self.foods)\n",
    "    self.restaurant_name=restaurant_name\n",
    "    print(str(self.restaurant_name)+\" WELCOME TO FOOD APP\")\n",
    "\n",
    "  def AddFood(self):\n",
    "    self.name=input(\" Enter Food:\")\n",
    "    self.qty=int(input(\" Enter Qty:\"))\n",
    "    self.price=int(input(\" Enter Price:\"))\n",
    "    self.items={\"name\":self.name,\"qty\":self.qty,\"price\":self.price}\n",
    "    self.food_id=len(self.foods)+1\n",
    "    self.foods[self.food_id]=self.items   #insert Food into Dictionary\n",
    "    \n",
    "    with open(\"Food_item.json\",\"w\") as f:\n",
    "        json.dump(self.foods,f)\n",
    "    #print(self.foods)\n",
    "    print(\"Food added Successfully\")\n",
    "\n",
    "  def ViewFood(self):\n",
    "    print(self.foods)\n",
    "\n",
    "  def RemoveFood(self,food_id):\n",
    "    del self.foods[food_id]\n",
    "    with open(\"Food_item.json\",\"w\") as f:\n",
    "        json.dump(self.foods,f)\n",
    "    print(\"Food Removed Successfully\")\n",
    "\n",
    "  def EditFood(self,food_id):\n",
    "    self.qty=int(input(\" Enter Qty:\"))\n",
    "    self.price=int(input(\" Enter Price:\"))\n",
    "    self.items={\"name\":self.name,\"qty\":self.qty,\"price\":self.price}\n",
    "\n",
    "    self.foods[food_id]=self.items   #insert Food into Dictionary\n",
    "    with open(\"Food_item.json\",\"w\") as f:\n",
    "        json.dump(self.foods,f)\n",
    "    print(\"Food Changed Successfully\")\n",
    "    "
   ]
  },
  {
   "cell_type": "code",
   "execution_count": 129,
   "id": "c76c1c55",
   "metadata": {},
   "outputs": [
    {
     "name": "stdout",
     "output_type": "stream",
     "text": [
      "PRITAM_DA_DHABA WELCOME TO FOOD APP\n"
     ]
    }
   ],
   "source": [
    "restaurant=Restaurant(\"PRITAM_DA_DHABA\")"
   ]
  },
  {
   "cell_type": "code",
   "execution_count": 130,
   "id": "9b9f1ac7",
   "metadata": {},
   "outputs": [],
   "source": [
    "class User:\n",
    "  def __init__(self,restaurant):\n",
    "    self.users={}\n",
    "    self.user_id=len(self.users)\n",
    "    self.restaurant=restaurant\n",
    "    \n",
    "\n",
    "  def RegisterUser(self):\n",
    "    print(\"Register User :}\")\n",
    "    name=input(\" Enter Name:\")\n",
    "    phoneNo=input(\" Enter Phone no:\")\n",
    "    userid=input(\" Enter ID:\")\n",
    "    password=input(\" Enter Password:\")\n",
    "    ordered_foods={}\n",
    "    order_id=len(ordered_foods)\n",
    "    user={\"name\":name,\"phoneNo\":phoneNo,\"password\":password,\"ordered_foods\":ordered_foods}\n",
    "\n",
    "    self.users[userid]=user\n",
    "    with open(\"user_info.json\",\"w\") as f:\n",
    "        json.dump(self.users,f)\n",
    "    print(self.users)\n",
    "    print(\"User Registered Successfully :}\")\n",
    "\n",
    "  def enlist_food_items(self):\n",
    "    print(\"\")\n",
    "    print(\"##############\"+str(self.restaurant.restaurant_name)+\"#################\")\n",
    "    print(\"Menu List\")\n",
    "\n",
    "    for food_id,food in enumerate(self.restaurant.foods):\n",
    "      print(\"=>\"+str(food_id)+\":\"+self.restaurant.foods[food_id]['name']+\":\"+self.restaurant.foods[food_id]['qty']+\":\"+self.restaurant.foods[food_id]['price'])\n",
    "\n",
    "  def enlist_food_items_1(self):\n",
    "    print(self.restaurant.foods)\n",
    "    \n",
    "  def place_new_order(self,userid):\n",
    "\n",
    "    self.enlist_food_items_1()\n",
    "    \n",
    "    ordered_food_no_list=[int(ord_no) for ord_no in input('Enter food list number').split(',')]\n",
    "    print(\"Ordered Food list:\")\n",
    "    print(ordered_food_no_list)\n",
    "\n",
    "    for food_id in ordered_food_no_list:\n",
    "      print('ordered_id '+str(food_id))\n",
    "      temp_food_name=self.restaurant.foods[food_id]['name']\n",
    "      temp_food_qty=self.restaurant.foods[food_id]['qty']\n",
    "\n",
    "      new_food={\"food_name\":temp_food_name, \"qty\":temp_food_qty}\n",
    "      order_id=len(self.users[userid]['ordered_foods'])+1\n",
    "      self.users[userid]['ordered_foods'][order_id]=new_food\n",
    "\n",
    "    print(\"New order placed successfully :)\")\n",
    "    print(\"Total Orders:\"+ str(len(self.users[userid]['ordered_foods'])))\n",
    "\n",
    "  def check_order_history(self,userid):\n",
    "    print(self.users[userid]['ordered_foods'])\n",
    "\n",
    "  def update_profile(self,userid):\n",
    "    name=input(\" Update Name:\")\n",
    "    phone_no=input(\" Update Phone no:\")\n",
    "    password=input(\" Update Password:\")\n",
    "    ordered_foods=self.users[userid]['ordered_foods']\n",
    "    updated_user={\"name\":name,\"phoneNo\":phone_no,\"password\":password,\"ordered_foods\":ordered_foods}\n",
    "\n",
    "    self.users[userid]=updated_user\n",
    "    print(updated_user)\n",
    "    print(\"Profile updated successfully :}\")"
   ]
  },
  {
   "cell_type": "code",
   "execution_count": null,
   "id": "38a0d220",
   "metadata": {},
   "outputs": [],
   "source": []
  },
  {
   "cell_type": "code",
   "execution_count": 131,
   "id": "83179d10",
   "metadata": {},
   "outputs": [],
   "source": [
    "def LoginUser(user_id, password):\n",
    "  if user_id in userObj.users :\n",
    "    print(\"User \"+user_id+\" found :}\")\n",
    "    if(userObj.users[user_id]['password'] == password):\n",
    "      print(\"User Logged in succesfully :}\")\n",
    "      \n",
    "      while(1):\n",
    "        select_option=int(input(\"Choose Option\\n 1.Place New Order\\n 2.Check Order History\\n 3.Update Profile\\n 4.Exit\\n\"))\n",
    "      \n",
    "        if( select_option ==1 ):\n",
    "          #Place New Order\n",
    "          userObj.place_new_order(user_id);\n",
    "\n",
    "        if( select_option ==2 ):\n",
    "          #Check Order History\n",
    "          userObj.check_order_history(user_id);\n",
    "\n",
    "        if( select_option ==3 ):\n",
    "          #Update Profile\n",
    "          userObj.update_profile(user_id);\n",
    "\n",
    "        if( select_option ==4 ):\n",
    "          print(\"Thank You :}\")\n",
    "          break\n",
    "\n",
    "    else:\n",
    "      print(\"Incorrect password :{\")\n",
    "  else:\n",
    "    print(\"User \"+user_id+ \" not found :{\")"
   ]
  },
  {
   "cell_type": "code",
   "execution_count": 132,
   "id": "dc5902ad",
   "metadata": {},
   "outputs": [],
   "source": [
    "def Food_Delivery_Application():\n",
    "      while(1):\n",
    "        option=int(input(\"What you want to do \\n1.Add food \\n2.View food \\n3.Remove food \\n4.Edit food \\n5.Exit \\n\"))\n",
    "\n",
    "        if(option == 1): #Add food\n",
    "            add_food_count=int(input(\"How many food do you want to add:\"))\n",
    "\n",
    "            for i in range(add_food_count):\n",
    "              restaurant.AddFood()\n",
    "\n",
    "        if(option == 2): #View food\n",
    "            restaurant.ViewFood()\n",
    "\n",
    "        if(option == 3): #Remove food\n",
    "            restaurant.ViewFood()\n",
    "            food_id=int(input(\"Remove food by mentioning Food_id:\"))\n",
    "            restaurant.RemoveFood(food_id)\n",
    "\n",
    "        if(option == 4): #Edit food\n",
    "            restaurant.ViewFood()\n",
    "            edit_food_id=int(input(\"Edit food by mentioning Food_id:\"))\n",
    "            restaurant.EditFood(edit_food_id)\n",
    "\n",
    "        if(option == 5): #Exit\n",
    "          print(\"Thank You :}\")\n",
    "          break;\n",
    "\n"
   ]
  },
  {
   "cell_type": "code",
   "execution_count": 133,
   "id": "2f7087a7",
   "metadata": {},
   "outputs": [],
   "source": [
    "def User_Activity_Application():      \n",
    "    while(1):\n",
    "        option=int(input(\"What do you want to do \\n1.Register \\n2.Login \\n3.Exit \\n\"))\n",
    "\n",
    "        if(option == 1): #Register\n",
    "          userObj=User(restaurant)\n",
    "          userObj.RegisterUser()\n",
    "\n",
    "        if(option == 2): #Login\n",
    "          print(\"Login User\")\n",
    "          userid=input(\"Enter User ID:\")\n",
    "          password=input(\"Enter Password:\")\n",
    "          LoginUser(userid,password)\n",
    "          break;"
   ]
  },
  {
   "cell_type": "code",
   "execution_count": 134,
   "id": "7047f661",
   "metadata": {},
   "outputs": [
    {
     "name": "stdout",
     "output_type": "stream",
     "text": [
      "Register User :}\n",
      " Enter Name:phchavan\n",
      " Enter Phone no:1124\n",
      " Enter ID:phchavan\n",
      " Enter Password:1234\n",
      "{'phchavan': {'name': 'phchavan', 'phoneNo': '1124', 'password': '1234', 'ordered_foods': {}}}\n",
      "User Registered Successfully :}\n"
     ]
    }
   ],
   "source": [
    "userObj=User(restaurant)\n",
    "userObj.RegisterUser()"
   ]
  },
  {
   "cell_type": "code",
   "execution_count": 135,
   "id": "6a84805e",
   "metadata": {},
   "outputs": [
    {
     "name": "stdout",
     "output_type": "stream",
     "text": [
      "{'phchavan': {'name': 'phchavan', 'phoneNo': '1124', 'password': '1234', 'ordered_foods': {}}}\n"
     ]
    }
   ],
   "source": [
    "print(userObj.users)"
   ]
  },
  {
   "cell_type": "code",
   "execution_count": 136,
   "id": "e3ad44a7",
   "metadata": {},
   "outputs": [
    {
     "name": "stdout",
     "output_type": "stream",
     "text": [
      "What you want to do \n",
      "1.Add food \n",
      "2.View food \n",
      "3.Remove food \n",
      "4.Edit food \n",
      "5.Exit \n",
      "1\n",
      "How many food do you want to add:2\n",
      " Enter Food:bhel\n",
      " Enter Qty:1\n",
      " Enter Price:12\n",
      "Food added Successfully\n",
      " Enter Food:papdi\n",
      " Enter Qty:1\n",
      " Enter Price:20\n",
      "Food added Successfully\n",
      "What you want to do \n",
      "1.Add food \n",
      "2.View food \n",
      "3.Remove food \n",
      "4.Edit food \n",
      "5.Exit \n",
      "2\n",
      "{1: {'name': 'bhel', 'qty': 1, 'price': 12}, 2: {'name': 'papdi', 'qty': 1, 'price': 20}}\n",
      "What you want to do \n",
      "1.Add food \n",
      "2.View food \n",
      "3.Remove food \n",
      "4.Edit food \n",
      "5.Exit \n",
      "5\n",
      "Thank You :}\n"
     ]
    }
   ],
   "source": [
    "Food_Delivery_Application()"
   ]
  },
  {
   "cell_type": "code",
   "execution_count": 138,
   "id": "6aaf9ab8",
   "metadata": {},
   "outputs": [
    {
     "name": "stdout",
     "output_type": "stream",
     "text": [
      "What do you want to do \n",
      "1.Register \n",
      "2.Login \n",
      "3.Exit \n",
      "2\n",
      "Login User\n",
      "Enter User ID:phchavan\n",
      "Enter Password:1234\n",
      "User phchavan found :}\n",
      "User Logged in succesfully :}\n",
      "Choose Option\n",
      " 1.Place New Order\n",
      " 2.Check Order History\n",
      " 3.Update Profile\n",
      " 4.Exit\n",
      "1\n",
      "{1: {'name': 'bhel', 'qty': 1, 'price': 12}, 2: {'name': 'papdi', 'qty': 1, 'price': 20}}\n",
      "Enter food list number1\n",
      "Ordered Food list:\n",
      "[1]\n",
      "ordered_id 1\n",
      "New order placed successfully :)\n",
      "Total Orders:1\n",
      "Choose Option\n",
      " 1.Place New Order\n",
      " 2.Check Order History\n",
      " 3.Update Profile\n",
      " 4.Exit\n",
      "2\n",
      "{1: {'food_name': 'bhel', 'qty': 1}}\n",
      "Choose Option\n",
      " 1.Place New Order\n",
      " 2.Check Order History\n",
      " 3.Update Profile\n",
      " 4.Exit\n",
      "4\n",
      "Thank You :}\n"
     ]
    }
   ],
   "source": [
    "User_Activity_Application()\n"
   ]
  },
  {
   "cell_type": "code",
   "execution_count": 106,
   "id": "9db46b23",
   "metadata": {},
   "outputs": [
    {
     "name": "stdout",
     "output_type": "stream",
     "text": [
      "<class 'str'>\n"
     ]
    }
   ],
   "source": [
    "print(type(restaurant.foods[1]['name']))"
   ]
  },
  {
   "cell_type": "code",
   "execution_count": null,
   "id": "c89ef90d",
   "metadata": {},
   "outputs": [],
   "source": []
  }
 ],
 "metadata": {
  "kernelspec": {
   "display_name": "Python 3 (ipykernel)",
   "language": "python",
   "name": "python3"
  },
  "language_info": {
   "codemirror_mode": {
    "name": "ipython",
    "version": 3
   },
   "file_extension": ".py",
   "mimetype": "text/x-python",
   "name": "python",
   "nbconvert_exporter": "python",
   "pygments_lexer": "ipython3",
   "version": "3.9.12"
  }
 },
 "nbformat": 4,
 "nbformat_minor": 5
}
